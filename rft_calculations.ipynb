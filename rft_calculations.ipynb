version https://git-lfs.github.com/spec/v1
oid sha256:0851c945af23286260fbda7a78c761118bc46951af1791094def540f71a71c4d
size 39768
