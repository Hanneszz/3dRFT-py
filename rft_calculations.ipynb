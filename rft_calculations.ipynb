version https://git-lfs.github.com/spec/v1
oid sha256:0327e2019380476325da7af5b92b37a44ed2831b77fef3bf0b5649410e6fbb43
size 32149
