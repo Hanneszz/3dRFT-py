{
 "cells": [
  {
   "cell_type": "code",
   "execution_count": 17,
   "metadata": {},
   "outputs": [],
   "source": [
    "from src import rft_main\n",
    "\n",
    "import numpy as np\n"
   ]
  },
  {
   "cell_type": "code",
   "execution_count": 18,
   "metadata": {},
   "outputs": [],
   "source": [
    "### INPUTS ###\n",
    "inputs = {\n",
    "    \"model\": \"CylinderRough\",\n",
    "    \"bulk_density\": 1310,\n",
    "    \"friction_material\": 0.21,\n",
    "    \"firction_surface\": 0.4,\n",
    "    \"friction_type\": \"coefficient\",\n",
    "    \"gravity\": 9.81,\n",
    "    \"linear_velocity\": 0.1,\n",
    "    \"direction_angle_xz_deg\": -90,\n",
    "    \"direction_angle_y_deg\": -90,\n",
    "    \"rotation\": False,\n",
    "    \"angular_velocity\": np.array([0, 0, -2 * np.pi]),\n",
    "    \"start_depth\": 100,\n",
    "    \"end_depth\": 200,\n",
    "    \"step_size\": 5,\n",
    "}\n"
   ]
  },
  {
   "cell_type": "code",
   "execution_count": 20,
   "metadata": {},
   "outputs": [
    {
     "name": "stdout",
     "output_type": "stream",
     "text": [
      "Processed movement at depth: 200 mm\n",
      "Done!\n"
     ]
    }
   ],
   "source": [
    "rft_main.run_rft(**inputs)\n",
    "\n",
    "print(\"Done!\")\n"
   ]
  }
 ],
 "metadata": {
  "kernelspec": {
   "display_name": ".venv",
   "language": "python",
   "name": "python3"
  },
  "language_info": {
   "codemirror_mode": {
    "name": "ipython",
    "version": 3
   },
   "file_extension": ".py",
   "mimetype": "text/x-python",
   "name": "python",
   "nbconvert_exporter": "python",
   "pygments_lexer": "ipython3",
   "version": "3.11.5"
  }
 },
 "nbformat": 4,
 "nbformat_minor": 2
}
