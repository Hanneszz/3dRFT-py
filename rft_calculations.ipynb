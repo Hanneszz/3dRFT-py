{
 "cells": [
  {
   "cell_type": "code",
   "execution_count": 36,
   "metadata": {},
   "outputs": [],
   "source": [
    "import numpy as np\n",
    "import plotly.graph_objects as go\n",
    "from IPython.display import display\n",
    "\n",
    "from src import rft_main\n"
   ]
  },
  {
   "cell_type": "code",
   "execution_count": 37,
   "metadata": {},
   "outputs": [
    {
     "data": {
      "text/html": [
       "<style>\n",
       ".cell-output-ipywidget-background {\n",
       "   background-color: transparent !important;\n",
       "}\n",
       ".jp-OutputArea-output {\n",
       "   background-color: transparent;\n",
       "}\n",
       "</style>\n"
      ],
      "text/plain": [
       "<IPython.core.display.HTML object>"
      ]
     },
     "metadata": {},
     "output_type": "display_data"
    }
   ],
   "source": [
    "%%html\n",
    "<style>\n",
    ".cell-output-ipywidget-background {\n",
    "   background-color: transparent !important;\n",
    "}\n",
    ".jp-OutputArea-output {\n",
    "   background-color: transparent;\n",
    "}\n",
    "</style>\n"
   ]
  },
  {
   "cell_type": "code",
   "execution_count": 38,
   "metadata": {},
   "outputs": [],
   "source": [
    "### INPUTS ###\n",
    "inputs = {\n",
    "    \"model\": \"CylinderRough\",\n",
    "    \"bulk_density\": 1310,\n",
    "    \"friction_material\": 0.21,\n",
    "    \"firction_surface\": 0.4,\n",
    "    \"friction_type\": \"coefficient\",\n",
    "    \"gravity\": 9.81,\n",
    "    \"linear_velocity\": 0.1,\n",
    "    \"direction_angle_xz_deg\": -90,\n",
    "    \"direction_angle_y_deg\": -90,\n",
    "    \"rotation\": True,\n",
    "    \"angular_velocity\": np.array([0, 0, -2 * np.pi]),\n",
    "    \"start_depth\": 100,\n",
    "    \"end_depth\": 100,\n",
    "    \"step_size\": 5,\n",
    "}\n"
   ]
  },
  {
   "cell_type": "code",
   "execution_count": 39,
   "metadata": {},
   "outputs": [
    {
     "name": "stdout",
     "output_type": "stream",
     "text": [
      "Processed movement at depth: 100 mm\n",
      "0.00763622575463252 -0.023216180297600975 36.41834861605442\n",
      "Done!\n"
     ]
    }
   ],
   "source": [
    "results = rft_main.run_rft(**inputs)\n",
    "\n",
    "point_list = results[\"point_list\"]\n",
    "normal_list = results[\"normal_list\"]\n",
    "area_list = results[\"area_list\"]\n",
    "depth_list = results[\"depth_list\"]\n",
    "object_width_x = results[\"object_width_x\"]\n",
    "object_width_y = results[\"object_width_y\"]\n",
    "object_height = results[\"object_height\"]\n",
    "vertices = results[\"vertices\"]\n",
    "faces = results[\"faces\"]\n",
    "trg = results[\"trg\"]\n",
    "movement = results[\"movement\"]\n",
    "z_local = results[\"z_local\"]\n",
    "r_local = results[\"r_local\"]\n",
    "theta_local = results[\"theta_local\"]\n",
    "alpha_generic = results[\"alpha_generic\"]\n",
    "alpha_generic_n = results[\"alpha_generic_n\"]\n",
    "alpha_generic_t = results[\"alpha_generic_t\"]\n",
    "alpha = results[\"alpha\"]\n",
    "depth = results[\"depth\"]\n",
    "forces = results[\"forces\"]\n",
    "pressures = results[\"pressures\"]\n",
    "force_x = results[\"force_x\"]\n",
    "force_y = results[\"force_y\"]\n",
    "force_z = results[\"force_z\"]\n",
    "resultant = results[\"resultant\"]\n",
    "torques = results[\"torques\"]\n",
    "torque_x = results[\"torque_x\"]\n",
    "torque_y = results[\"torque_y\"]\n",
    "torque_z = results[\"torque_z\"]\n",
    "resultant_torque = results[\"resultant_torque\"]\n",
    "result_matrix = results[\"result_matrix\"]\n",
    "print(force_x, force_y, force_z)\n",
    "print(\"Done!\")\n"
   ]
  },
  {
   "cell_type": "code",
   "execution_count": 40,
   "metadata": {},
   "outputs": [
    {
     "data": {
      "application/vnd.jupyter.widget-view+json": {
       "model_id": "b8bb69b7bd964bcab5815e5216455fa7",
       "version_major": 2,
       "version_minor": 0
      },
      "text/plain": [
       "FigureWidget({\n",
       "    'data': [{'cmax': -50.01523,\n",
       "              'cmin': -99.98477,\n",
       "              'colorscale': [[0.0, '#0d0887'], [0.1111111111111111, '#46039f'],\n",
       "                             [0.2222222222222222, '#7201a8'], [0.3333333333333333,\n",
       "                             '#9c179e'], [0.4444444444444444, '#bd3786'],\n",
       "                             [0.5555555555555556, '#d8576b'], [0.6666666666666666,\n",
       "                             '#ed7953'], [0.7777777777777778, '#fb9f3a'],\n",
       "                             [0.8888888888888888, '#fdca26'], [1.0, '#f0f921']],\n",
       "              'i': array([ 42,   0,   0, ..., 672, 672, 672], dtype=int64),\n",
       "              'intensity': array([-75.     , -75.     , -75.     , ..., -73.25609, -76.74391, -73.25609],\n",
       "                                 dtype=float32),\n",
       "              'j': array([380, 380, 381, ..., 780, 779, 484], dtype=int64),\n",
       "              'k': array([  0, 381,  43, ..., 779, 778, 673], dtype=int64),\n",
       "              'type': 'mesh3d',\n",
       "              'uid': '381443bb-3c94-4b08-b75d-fecdc1a1bf79',\n",
       "              'x': array([-25.      , -25.      , -25.      , ...,  24.939102,  24.939102,\n",
       "                           24.939102], dtype=float32),\n",
       "              'y': array([-70.      , -66.585365, -63.17073 , ...,  66.585365,  70.      ,\n",
       "                           70.      ], dtype=float32),\n",
       "              'z': array([-75.     , -75.     , -75.     , ..., -73.25609, -76.74391, -73.25609],\n",
       "                         dtype=float32)}],\n",
       "    'layout': {'height': 400,\n",
       "               'paper_bgcolor': 'rgba(31,31,31,0)',\n",
       "               'scene': {'aspectmode': 'data', 'aspectratio': {'x': 49.939102, 'y': 140.0, 'z': 49.969543}},\n",
       "               'template': '...',\n",
       "               'width': 500}\n",
       "})"
      ]
     },
     "metadata": {},
     "output_type": "display_data"
    }
   ],
   "source": [
    "# Creating a 3D plot using Plotly\n",
    "fig = go.FigureWidget()\n",
    "\n",
    "fig.add_trace(\n",
    "    go.Mesh3d(\n",
    "        x=vertices[:, 0],\n",
    "        y=vertices[:, 1],\n",
    "        z=vertices[:, 2],\n",
    "        i=faces[:, 0],\n",
    "        j=faces[:, 1],\n",
    "        k=faces[:, 2],\n",
    "        colorscale=\"Plasma\",\n",
    "        intensity=vertices[:, 2],\n",
    "        cmin=np.min(vertices[:, 2]),\n",
    "        cmax=np.max(vertices[:, 2]),\n",
    "    )\n",
    ")\n",
    "\n",
    "# Updating the layout of the plot\n",
    "fig.update_layout(\n",
    "    template=\"plotly_dark\",\n",
    "    paper_bgcolor=\"rgba(31,31,31,0)\",\n",
    "    width=500,\n",
    "    height=400,\n",
    "    scene=dict(\n",
    "        aspectmode=\"data\",\n",
    "        aspectratio=dict(\n",
    "            x=np.ptp(vertices[:, 0]),\n",
    "            y=np.ptp(vertices[:, 1]),\n",
    "            z=np.ptp(vertices[:, 2]),\n",
    "        ),\n",
    "    ),\n",
    ")\n",
    "\n",
    "display(fig)\n"
   ]
  },
  {
   "cell_type": "code",
   "execution_count": 41,
   "metadata": {},
   "outputs": [
    {
     "data": {
      "application/vnd.jupyter.widget-view+json": {
       "model_id": "b46a52726a984a27a10df9caa1c4aae7",
       "version_major": 2,
       "version_minor": 0
      },
      "text/plain": [
       "FigureWidget({\n",
       "    'data': [{'colorscale': [[0.0, 'rgb(209, 238, 234)'], [0.16666666666666666,\n",
       "                             'rgb(168, 219, 217)'], [0.3333333333333333, 'rgb(133,\n",
       "                             196, 201)'], [0.5, 'rgb(104, 171, 184)'],\n",
       "                             [0.6666666666666666, 'rgb(79, 144, 166)'],\n",
       "                             [0.8333333333333334, 'rgb(59, 115, 143)'], [1.0,\n",
       "                             'rgb(42, 86, 116)']],\n",
       "              'showscale': False,\n",
       "              'sizeref': 3,\n",
       "              'type': 'cone',\n",
       "              'u': array([-0.9750784 , -0.97416377, -0.97324437, ...,  0.96403446,  0.96403446,\n",
       "                           0.95514356]),\n",
       "              'uid': '72a80c07-80a0-48e1-ba85-47345e63d0bb',\n",
       "              'v': array([-0.00849426, -0.04412649, -0.06188812, ...,  0.15031517,  0.15031517,\n",
       "                           0.20134536]),\n",
       "              'w': array([-0.22169792, -0.22148997, -0.22128093, ..., -0.21918693, -0.21918693,\n",
       "                          -0.21716545]),\n",
       "              'x': array([  0.6097955,   3.1707752,   4.451265 , ..., -10.914612 , -10.914612 ,\n",
       "                          -14.756081 ], dtype=float32),\n",
       "              'y': array([-70., -70., -70., ...,  70.,  70.,  70.], dtype=float32),\n",
       "              'z': array([-62.883736, -64.16501 , -62.883736, ..., -91.07168 , -93.634224,\n",
       "                          -91.07168 ], dtype=float32)}],\n",
       "    'layout': {'height': 400,\n",
       "               'paper_bgcolor': 'rgba(31,31,31,0)',\n",
       "               'scene': {'aspectmode': 'data', 'aspectratio': {'x': 49.939102, 'y': 140.0, 'z': 49.969543}},\n",
       "               'template': '...',\n",
       "               'width': 500}\n",
       "})"
      ]
     },
     "metadata": {},
     "output_type": "display_data"
    }
   ],
   "source": [
    "fig = go.FigureWidget()\n",
    "fig.add_trace(\n",
    "    go.Cone(\n",
    "        x=point_list[:, 0],\n",
    "        y=point_list[:, 1],\n",
    "        z=point_list[:, 2],\n",
    "        u=movement[:, 0],\n",
    "        v=movement[:, 1],\n",
    "        w=movement[:, 2],\n",
    "        sizeref=3,\n",
    "        showscale=False,\n",
    "        colorscale=\"Teal\",\n",
    "    )\n",
    ")\n",
    "\n",
    "# Updating the layout of the plot\n",
    "fig.update_layout(\n",
    "    template=\"plotly_dark\",\n",
    "    paper_bgcolor=\"rgba(31,31,31,0)\",\n",
    "    width=500,\n",
    "    height=400,\n",
    "    scene=dict(\n",
    "        aspectmode=\"data\",\n",
    "        aspectratio=dict(\n",
    "            x=np.ptp(vertices[:, 0]),\n",
    "            y=np.ptp(vertices[:, 1]),\n",
    "            z=np.ptp(vertices[:, 2]),\n",
    "        ),\n",
    "    ),\n",
    ")\n",
    "\n",
    "display(fig)\n"
   ]
  }
 ],
 "metadata": {
  "kernelspec": {
   "display_name": ".venv",
   "language": "python",
   "name": "python3"
  },
  "language_info": {
   "codemirror_mode": {
    "name": "ipython",
    "version": 3
   },
   "file_extension": ".py",
   "mimetype": "text/x-python",
   "name": "python",
   "nbconvert_exporter": "python",
   "pygments_lexer": "ipython3",
   "version": "3.11.5"
  }
 },
 "nbformat": 4,
 "nbformat_minor": 2
}
