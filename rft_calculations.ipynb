{
 "cells": [
  {
   "cell_type": "code",
   "execution_count": 3,
   "metadata": {},
   "outputs": [],
   "source": [
    "from src import rft_main\n"
   ]
  },
  {
   "cell_type": "code",
   "execution_count": 5,
   "metadata": {},
   "outputs": [
    {
     "ename": "NameError",
     "evalue": "name 'np' is not defined",
     "output_type": "error",
     "traceback": [
      "\u001b[1;31m---------------------------------------------------------------------------\u001b[0m",
      "\u001b[1;31mNameError\u001b[0m                                 Traceback (most recent call last)",
      "\u001b[1;32md:\\Benutzer\\GitHub\\3dRFT-py\\rft_calculations.ipynb Cell 2\u001b[0m line \u001b[0;36m1\n\u001b[0;32m      <a href='vscode-notebook-cell:/d%3A/Benutzer/GitHub/3dRFT-py/rft_calculations.ipynb#W2sZmlsZQ%3D%3D?line=0'>1</a>\u001b[0m \u001b[39m### INPUTS ###\u001b[39;00m\n\u001b[0;32m      <a href='vscode-notebook-cell:/d%3A/Benutzer/GitHub/3dRFT-py/rft_calculations.ipynb#W2sZmlsZQ%3D%3D?line=1'>2</a>\u001b[0m inputs \u001b[39m=\u001b[39m {\n\u001b[0;32m      <a href='vscode-notebook-cell:/d%3A/Benutzer/GitHub/3dRFT-py/rft_calculations.ipynb#W2sZmlsZQ%3D%3D?line=2'>3</a>\u001b[0m     \u001b[39m\"\u001b[39m\u001b[39mmodels\u001b[39m\u001b[39m\"\u001b[39m: \u001b[39m\"\u001b[39m\u001b[39mCylinderRough\u001b[39m\u001b[39m\"\u001b[39m,\n\u001b[0;32m      <a href='vscode-notebook-cell:/d%3A/Benutzer/GitHub/3dRFT-py/rft_calculations.ipynb#W2sZmlsZQ%3D%3D?line=3'>4</a>\u001b[0m     \u001b[39m\"\u001b[39m\u001b[39mbulk_density\u001b[39m\u001b[39m\"\u001b[39m: \u001b[39m1310\u001b[39m,\n\u001b[0;32m      <a href='vscode-notebook-cell:/d%3A/Benutzer/GitHub/3dRFT-py/rft_calculations.ipynb#W2sZmlsZQ%3D%3D?line=4'>5</a>\u001b[0m     \u001b[39m\"\u001b[39m\u001b[39mfriction_material\u001b[39m\u001b[39m\"\u001b[39m: \u001b[39m0.21\u001b[39m,\n\u001b[0;32m      <a href='vscode-notebook-cell:/d%3A/Benutzer/GitHub/3dRFT-py/rft_calculations.ipynb#W2sZmlsZQ%3D%3D?line=5'>6</a>\u001b[0m     \u001b[39m\"\u001b[39m\u001b[39mfirction_surface\u001b[39m\u001b[39m\"\u001b[39m: \u001b[39m0.4\u001b[39m,\n\u001b[0;32m      <a href='vscode-notebook-cell:/d%3A/Benutzer/GitHub/3dRFT-py/rft_calculations.ipynb#W2sZmlsZQ%3D%3D?line=6'>7</a>\u001b[0m     \u001b[39m\"\u001b[39m\u001b[39mfriction_type\u001b[39m\u001b[39m\"\u001b[39m: \u001b[39m\"\u001b[39m\u001b[39mcoefficient\u001b[39m\u001b[39m\"\u001b[39m,\n\u001b[0;32m      <a href='vscode-notebook-cell:/d%3A/Benutzer/GitHub/3dRFT-py/rft_calculations.ipynb#W2sZmlsZQ%3D%3D?line=7'>8</a>\u001b[0m     \u001b[39m\"\u001b[39m\u001b[39mgravity\u001b[39m\u001b[39m\"\u001b[39m: \u001b[39m9.81\u001b[39m,\n\u001b[0;32m      <a href='vscode-notebook-cell:/d%3A/Benutzer/GitHub/3dRFT-py/rft_calculations.ipynb#W2sZmlsZQ%3D%3D?line=8'>9</a>\u001b[0m     \u001b[39m\"\u001b[39m\u001b[39mlinear_velocity\u001b[39m\u001b[39m\"\u001b[39m: \u001b[39m0.1\u001b[39m,\n\u001b[0;32m     <a href='vscode-notebook-cell:/d%3A/Benutzer/GitHub/3dRFT-py/rft_calculations.ipynb#W2sZmlsZQ%3D%3D?line=9'>10</a>\u001b[0m     \u001b[39m\"\u001b[39m\u001b[39mdirection_angle_xz_deg\u001b[39m\u001b[39m\"\u001b[39m: \u001b[39m-\u001b[39m\u001b[39m90\u001b[39m,\n\u001b[0;32m     <a href='vscode-notebook-cell:/d%3A/Benutzer/GitHub/3dRFT-py/rft_calculations.ipynb#W2sZmlsZQ%3D%3D?line=10'>11</a>\u001b[0m     \u001b[39m\"\u001b[39m\u001b[39mdirection_angle_y_deg\u001b[39m\u001b[39m\"\u001b[39m: \u001b[39m-\u001b[39m\u001b[39m90\u001b[39m,\n\u001b[0;32m     <a href='vscode-notebook-cell:/d%3A/Benutzer/GitHub/3dRFT-py/rft_calculations.ipynb#W2sZmlsZQ%3D%3D?line=11'>12</a>\u001b[0m     \u001b[39m\"\u001b[39m\u001b[39mrotation\u001b[39m\u001b[39m\"\u001b[39m: \u001b[39mFalse\u001b[39;00m,\n\u001b[1;32m---> <a href='vscode-notebook-cell:/d%3A/Benutzer/GitHub/3dRFT-py/rft_calculations.ipynb#W2sZmlsZQ%3D%3D?line=12'>13</a>\u001b[0m     \u001b[39m\"\u001b[39m\u001b[39mangular_velocity\u001b[39m\u001b[39m\"\u001b[39m: np\u001b[39m.\u001b[39marray([\u001b[39m0\u001b[39m, \u001b[39m0\u001b[39m, \u001b[39m-\u001b[39m\u001b[39m2\u001b[39m \u001b[39m*\u001b[39m np\u001b[39m.\u001b[39mpi]),\n\u001b[0;32m     <a href='vscode-notebook-cell:/d%3A/Benutzer/GitHub/3dRFT-py/rft_calculations.ipynb#W2sZmlsZQ%3D%3D?line=13'>14</a>\u001b[0m     \u001b[39m\"\u001b[39m\u001b[39mstart_depth\u001b[39m\u001b[39m\"\u001b[39m: \u001b[39m100\u001b[39m,\n\u001b[0;32m     <a href='vscode-notebook-cell:/d%3A/Benutzer/GitHub/3dRFT-py/rft_calculations.ipynb#W2sZmlsZQ%3D%3D?line=14'>15</a>\u001b[0m     \u001b[39m\"\u001b[39m\u001b[39mend_depth\u001b[39m\u001b[39m\"\u001b[39m: \u001b[39m200\u001b[39m,\n\u001b[0;32m     <a href='vscode-notebook-cell:/d%3A/Benutzer/GitHub/3dRFT-py/rft_calculations.ipynb#W2sZmlsZQ%3D%3D?line=15'>16</a>\u001b[0m     \u001b[39m\"\u001b[39m\u001b[39mstep_size\u001b[39m\u001b[39m\"\u001b[39m: \u001b[39m5\u001b[39m,\n\u001b[0;32m     <a href='vscode-notebook-cell:/d%3A/Benutzer/GitHub/3dRFT-py/rft_calculations.ipynb#W2sZmlsZQ%3D%3D?line=16'>17</a>\u001b[0m }\n",
      "\u001b[1;31mNameError\u001b[0m: name 'np' is not defined"
     ]
    }
   ],
   "source": [
    "### INPUTS ###\n",
    "inputs = {\n",
    "    \"models\": \"CylinderRough\",\n",
    "    \"bulk_density\": 1310,\n",
    "    \"friction_material\": 0.21,\n",
    "    \"firction_surface\": 0.4,\n",
    "    \"friction_type\": \"coefficient\",\n",
    "    \"gravity\": 9.81,\n",
    "    \"linear_velocity\": 0.1,\n",
    "    \"direction_angle_xz_deg\": -90,\n",
    "    \"direction_angle_y_deg\": -90,\n",
    "    \"rotation\": False,\n",
    "    \"angular_velocity\": np.array([0, 0, -2 * np.pi]),\n",
    "    \"start_depth\": 100,\n",
    "    \"end_depth\": 200,\n",
    "    \"step_size\": 5,\n",
    "}\n"
   ]
  },
  {
   "cell_type": "code",
   "execution_count": 4,
   "metadata": {},
   "outputs": [
    {
     "ename": "NameError",
     "evalue": "name 'inputs' is not defined",
     "output_type": "error",
     "traceback": [
      "\u001b[1;31m---------------------------------------------------------------------------\u001b[0m",
      "\u001b[1;31mNameError\u001b[0m                                 Traceback (most recent call last)",
      "\u001b[1;32md:\\Benutzer\\GitHub\\3dRFT-py\\rft_calculations.ipynb Cell 3\u001b[0m line \u001b[0;36m1\n\u001b[1;32m----> <a href='vscode-notebook-cell:/d%3A/Benutzer/GitHub/3dRFT-py/rft_calculations.ipynb#W3sZmlsZQ%3D%3D?line=0'>1</a>\u001b[0m results \u001b[39m=\u001b[39m rft_main\u001b[39m.\u001b[39mrun_rft(inputs)\n",
      "\u001b[1;31mNameError\u001b[0m: name 'inputs' is not defined"
     ]
    }
   ],
   "source": [
    "results = rft_main.run_rft(inputs)\n"
   ]
  }
 ],
 "metadata": {
  "kernelspec": {
   "display_name": ".venv",
   "language": "python",
   "name": "python3"
  },
  "language_info": {
   "codemirror_mode": {
    "name": "ipython",
    "version": 3
   },
   "file_extension": ".py",
   "mimetype": "text/x-python",
   "name": "python",
   "nbconvert_exporter": "python",
   "pygments_lexer": "ipython3",
   "version": "3.11.5"
  }
 },
 "nbformat": 4,
 "nbformat_minor": 2
}
