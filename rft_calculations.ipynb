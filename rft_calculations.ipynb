version https://git-lfs.github.com/spec/v1
oid sha256:574dec93fb3f2f33235a00a633b2e1cf4e90167066831ca99ddbc69f3674e4b2
size 2898521
