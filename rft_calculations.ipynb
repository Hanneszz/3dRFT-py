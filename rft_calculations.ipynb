version https://git-lfs.github.com/spec/v1
oid sha256:d605be8e736b560edfb23e02b2f3a35a45d3d108400491a06f034ce6cab58d94
size 41178
