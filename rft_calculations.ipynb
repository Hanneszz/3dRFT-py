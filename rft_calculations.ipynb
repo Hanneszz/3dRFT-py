{
 "cells": [
  {
   "cell_type": "code",
   "execution_count": 1,
   "metadata": {},
   "outputs": [],
   "source": [
    "from src import rft_main\n",
    "\n",
    "import numpy as np\n"
   ]
  },
  {
   "cell_type": "code",
   "execution_count": 2,
   "metadata": {},
   "outputs": [],
   "source": [
    "### INPUTS ###\n",
    "inputs = {\n",
    "    \"model\": \"CylinderRough\",\n",
    "    \"bulk_density\": 1310,\n",
    "    \"friction_material\": 0.21,\n",
    "    \"firction_surface\": 0.4,\n",
    "    \"friction_type\": \"coefficient\",\n",
    "    \"gravity\": 9.81,\n",
    "    \"linear_velocity\": 0.1,\n",
    "    \"direction_angle_xz_deg\": -90,\n",
    "    \"direction_angle_y_deg\": -90,\n",
    "    \"rotation\": False,\n",
    "    \"angular_velocity\": np.array([0, 0, -2 * np.pi]),\n",
    "    \"start_depth\": 100,\n",
    "    \"end_depth\": 200,\n",
    "    \"step_size\": 5,\n",
    "}\n"
   ]
  },
  {
   "cell_type": "code",
   "execution_count": 3,
   "metadata": {},
   "outputs": [
    {
     "ename": "NameError",
     "evalue": "name 'rft_functions' is not defined",
     "output_type": "error",
     "traceback": [
      "\u001b[1;31m---------------------------------------------------------------------------\u001b[0m",
      "\u001b[1;31mNameError\u001b[0m                                 Traceback (most recent call last)",
      "\u001b[1;32md:\\Benutzer\\GitHub\\3dRFT-py\\rft_calculations.ipynb Cell 3\u001b[0m line \u001b[0;36m1\n\u001b[1;32m----> <a href='vscode-notebook-cell:/d%3A/Benutzer/GitHub/3dRFT-py/rft_calculations.ipynb#W2sZmlsZQ%3D%3D?line=0'>1</a>\u001b[0m rft_main\u001b[39m.\u001b[39;49mrun_rft(\u001b[39m*\u001b[39;49m\u001b[39m*\u001b[39;49minputs)\n\u001b[0;32m      <a href='vscode-notebook-cell:/d%3A/Benutzer/GitHub/3dRFT-py/rft_calculations.ipynb#W2sZmlsZQ%3D%3D?line=2'>3</a>\u001b[0m \u001b[39mprint\u001b[39m(\u001b[39m\"\u001b[39m\u001b[39mDone!\u001b[39m\u001b[39m\"\u001b[39m)\n",
      "File \u001b[1;32md:\\Benutzer\\GitHub\\3dRFT-py\\src\\rft_main.py:435\u001b[0m, in \u001b[0;36mrun_rft\u001b[1;34m(model, bulk_density, friction_material, firction_surface, friction_type, gravity, linear_velocity, direction_angle_xz_deg, direction_angle_y_deg, rotation, angular_velocity, start_depth, end_depth, step_size)\u001b[0m\n\u001b[0;32m    421\u001b[0m num_steps \u001b[39m=\u001b[39m \u001b[39mint\u001b[39m((end_depth \u001b[39m+\u001b[39m step_size \u001b[39m-\u001b[39m start_depth) \u001b[39m/\u001b[39m step_size)\n\u001b[0;32m    423\u001b[0m \u001b[39m## STL Processing\u001b[39;00m\n\u001b[0;32m    424\u001b[0m (\n\u001b[0;32m    425\u001b[0m     point_list,\n\u001b[0;32m    426\u001b[0m     normal_list,\n\u001b[0;32m    427\u001b[0m     area_list,\n\u001b[0;32m    428\u001b[0m     depth_list,\n\u001b[0;32m    429\u001b[0m     object_width_x,\n\u001b[0;32m    430\u001b[0m     object_width_y,\n\u001b[0;32m    431\u001b[0m     object_height,\n\u001b[0;32m    432\u001b[0m     vertices,\n\u001b[0;32m    433\u001b[0m     faces,\n\u001b[0;32m    434\u001b[0m     trg,\n\u001b[1;32m--> 435\u001b[0m ) \u001b[39m=\u001b[39m rft_functions\u001b[39m.\u001b[39mimport_mesh(model)\n\u001b[0;32m    437\u001b[0m result_matrix \u001b[39m=\u001b[39m np\u001b[39m.\u001b[39mzeros((num_steps, \u001b[39m7\u001b[39m))\n\u001b[0;32m    438\u001b[0m step \u001b[39m=\u001b[39m \u001b[39m0\u001b[39m\n",
      "\u001b[1;31mNameError\u001b[0m: name 'rft_functions' is not defined"
     ]
    }
   ],
   "source": [
    "rft_main.run_rft(**inputs)\n",
    "\n",
    "print(\"Done!\")\n"
   ]
  }
 ],
 "metadata": {
  "kernelspec": {
   "display_name": ".venv",
   "language": "python",
   "name": "python3"
  },
  "language_info": {
   "codemirror_mode": {
    "name": "ipython",
    "version": 3
   },
   "file_extension": ".py",
   "mimetype": "text/x-python",
   "name": "python",
   "nbconvert_exporter": "python",
   "pygments_lexer": "ipython3",
   "version": "3.11.5"
  }
 },
 "nbformat": 4,
 "nbformat_minor": 2
}
