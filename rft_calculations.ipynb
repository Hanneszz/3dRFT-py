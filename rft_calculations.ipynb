version https://git-lfs.github.com/spec/v1
oid sha256:94f735b5511bf4ec1f43a151bbbecfab93452c229004b3ec907bbc47afc9aaf2
size 290
