version https://git-lfs.github.com/spec/v1
oid sha256:fd679a4afe90a2998e2afe357575ac986cff170629c81b057529aab919cf0004
size 17772653
