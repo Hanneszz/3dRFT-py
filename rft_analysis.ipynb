{
 "cells": [
  {
   "cell_type": "markdown",
   "metadata": {},
   "source": [
    "This is the Python implementation of the 3D-RFT Code based on the framework\n",
    "proposed by Agarwal et al. --> https://doi.org/10.1073/pnas.2214017120"
   ]
  },
  {
   "cell_type": "code",
   "execution_count": 10,
   "metadata": {},
   "outputs": [],
   "source": [
    "######## IMPORTS ########\n",
    "import math\n",
    "\n",
    "import numpy as np\n",
    "import scipy as sp\n",
    "from mpl_toolkits import mplot3d\n",
    "import matplotlib as mpl\n",
    "import matplotlib.pyplot as plt\n",
    "import seaborn as sns\n",
    "import plotly as py\n",
    "import pandas as pd"
   ]
  },
  {
   "cell_type": "code",
   "execution_count": 3,
   "metadata": {},
   "outputs": [],
   "source": [
    "from src import rft_functions"
   ]
  },
  {
   "cell_type": "code",
   "execution_count": 4,
   "metadata": {},
   "outputs": [],
   "source": [
    "######## INPUTS ########\n",
    "\n",
    "## Model selection\n",
    "MODEL = \"CylinderNormal\"\n",
    "\n",
    "## Physical properties\n",
    "BULK_DENSITY = 1520\n",
    "FRICTION_MATERIAL_DEG = 20\n",
    "FRICTION_MATERIAL = math.tan(np.deg2rad(FRICTION_MATERIAL_DEG))\n",
    "FRICTION_SURFACE = 0.4\n",
    "GRAVITY = 9.81\n",
    "MATERIAL_CONSTANT = (\n",
    "    GRAVITY\n",
    "    * BULK_DENSITY\n",
    "    * (\n",
    "        894 * FRICTION_MATERIAL**3\n",
    "        - 386 * FRICTION_MATERIAL**2\n",
    "        + 89 * FRICTION_MATERIAL\n",
    "    )\n",
    ")\n",
    "\n",
    "## Movement defintions\n",
    "LINEAR_VELOCITY = 0.1\n",
    "DIR_ANGLE_XZ_DEG = -90\n",
    "DIR_ANGLE_Y_DEG = -90\n",
    "\n",
    "ROTATION = True\n",
    "ANGULAR_VELOCITY = np.array([0, 0, -2 * sp.pi])\n",
    "\n",
    "## Depth parameters in mm\n",
    "DEPTH = 100\n",
    "\n",
    "## Miscellaneous & Plots\n",
    "THRESHOLD = 1.0e-12"
   ]
  },
  {
   "cell_type": "code",
   "execution_count": 5,
   "metadata": {},
   "outputs": [],
   "source": [
    "## STL Processing\n",
    "(\n",
    "    point_list,\n",
    "    normal_list,\n",
    "    area_list,\n",
    "    depth_list,\n",
    "    object_width_x,\n",
    "    object_width_y,\n",
    "    object_height,\n",
    "    trg,\n",
    ") = rft_functions.import_mesh(MODEL)"
   ]
  },
  {
   "cell_type": "code",
   "execution_count": 12,
   "metadata": {},
   "outputs": [
    {
     "ename": "IndexError",
     "evalue": "arrays used as indices must be of integer (or boolean) type",
     "output_type": "error",
     "traceback": [
      "\u001b[1;31m---------------------------------------------------------------------------\u001b[0m",
      "\u001b[1;31mIndexError\u001b[0m                                Traceback (most recent call last)",
      "\u001b[1;32md:\\Benutzer\\GitHub\\3dRFT-py\\rft_analysis.ipynb Cell 6\u001b[0m line \u001b[0;36m4\n\u001b[0;32m      <a href='vscode-notebook-cell:/d%3A/Benutzer/GitHub/3dRFT-py/rft_analysis.ipynb#W5sZmlsZQ%3D%3D?line=0'>1</a>\u001b[0m figure \u001b[39m=\u001b[39m plt\u001b[39m.\u001b[39mfigure(figsize\u001b[39m=\u001b[39m(\u001b[39m10\u001b[39m, \u001b[39m10\u001b[39m))\n\u001b[0;32m      <a href='vscode-notebook-cell:/d%3A/Benutzer/GitHub/3dRFT-py/rft_analysis.ipynb#W5sZmlsZQ%3D%3D?line=1'>2</a>\u001b[0m axes \u001b[39m=\u001b[39m mplot3d\u001b[39m.\u001b[39mAxes3D(figure)\n\u001b[1;32m----> <a href='vscode-notebook-cell:/d%3A/Benutzer/GitHub/3dRFT-py/rft_analysis.ipynb#W5sZmlsZQ%3D%3D?line=3'>4</a>\u001b[0m axes\u001b[39m.\u001b[39madd_collection3d(mplot3d\u001b[39m.\u001b[39mart3d\u001b[39m.\u001b[39mPoly3DCollection(vertices[faces]))\n",
      "\u001b[1;31mIndexError\u001b[0m: arrays used as indices must be of integer (or boolean) type"
     ]
    },
    {
     "data": {
      "text/plain": [
       "<Figure size 1000x1000 with 0 Axes>"
      ]
     },
     "metadata": {},
     "output_type": "display_data"
    }
   ],
   "source": [
    "figure = plt.figure(figsize=(10, 10))\n",
    "axes = mplot3d.Axes3D(figure)\n",
    "\n",
    "axes.add_collection3d(mplot3d.art3d.Poly3DCollection(vertices[faces]))"
   ]
  }
 ],
 "metadata": {
  "kernelspec": {
   "display_name": ".venv",
   "language": "python",
   "name": "python3"
  },
  "language_info": {
   "codemirror_mode": {
    "name": "ipython",
    "version": 3
   },
   "file_extension": ".py",
   "mimetype": "text/x-python",
   "name": "python",
   "nbconvert_exporter": "python",
   "pygments_lexer": "ipython3",
   "version": "3.11.5"
  },
  "orig_nbformat": 4
 },
 "nbformat": 4,
 "nbformat_minor": 2
}
