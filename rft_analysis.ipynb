{
 "cells": [
  {
   "cell_type": "markdown",
   "metadata": {},
   "source": [
    "This is the Python implementation of the 3D-RFT Code based on the framework\n",
    "proposed by Agarwal et al. --> https://doi.org/10.1073/pnas.2214017120"
   ]
  },
  {
   "cell_type": "code",
   "execution_count": 9,
   "metadata": {},
   "outputs": [],
   "source": [
    "######## IMPORTS ########\n",
    "import math\n",
    "\n",
    "import numpy as np\n",
    "import scipy as sp\n",
    "import matplotlib as mpl\n",
    "import matplotlib.pyplot as plt\n",
    "import seaborn as sns\n",
    "import plotly as py\n",
    "import pandas as pd"
   ]
  },
  {
   "cell_type": "code",
   "execution_count": 10,
   "metadata": {},
   "outputs": [],
   "source": [
    "from src import rft_functions"
   ]
  },
  {
   "cell_type": "code",
   "execution_count": 11,
   "metadata": {},
   "outputs": [],
   "source": [
    "######## INPUTS ########\n",
    "\n",
    "## Model selection\n",
    "MODEL = \"CylinderNormal\"\n",
    "\n",
    "## Physical properties\n",
    "BULK_DENSITY = 1520\n",
    "FRICTION_MATERIAL_DEG = 20\n",
    "FRICTION_MATERIAL = math.tan(np.deg2rad(FRICTION_MATERIAL_DEG))\n",
    "FRICTION_SURFACE = 0.4\n",
    "GRAVITY = 9.81\n",
    "MATERIAL_CONSTANT = (\n",
    "    GRAVITY\n",
    "    * BULK_DENSITY\n",
    "    * (\n",
    "        894 * FRICTION_MATERIAL**3\n",
    "        - 386 * FRICTION_MATERIAL**2\n",
    "        + 89 * FRICTION_MATERIAL\n",
    "    )\n",
    ")\n",
    "\n",
    "## Movement defintions\n",
    "LINEAR_VELOCITY = 0.1\n",
    "DIR_ANGLE_XZ_DEG = -90\n",
    "DIR_ANGLE_Y_DEG = -90\n",
    "\n",
    "ROTATION = True\n",
    "ANGULAR_VELOCITY = np.array([0, 0, -2 * sp.pi])\n",
    "\n",
    "## Depth parameters in mm\n",
    "DEPTH = 100\n",
    "\n",
    "## Miscellaneous & Plots\n",
    "THRESHOLD = 1.0e-12\n",
    "SHOW_GEOMETRY = 0\n",
    "SHOW_MOVEMENT = 0\n",
    "SHOW_ALPHA = 0\n",
    "SHOW_QUIVER = 0\n",
    "SHOW_SCATTER = 1\n",
    "SHOW_SCATTER_XYZ = 0\n",
    "SHOW_RESULTS = 0\n",
    "SAVE_FIGURES = 0"
   ]
  },
  {
   "cell_type": "code",
   "execution_count": 12,
   "metadata": {},
   "outputs": [
    {
     "ename": "ValueError",
     "evalue": "not enough values to unpack (expected 9, got 7)",
     "output_type": "error",
     "traceback": [
      "\u001b[1;31m---------------------------------------------------------------------------\u001b[0m",
      "\u001b[1;31mValueError\u001b[0m                                Traceback (most recent call last)",
      "\u001b[1;32md:\\Benutzer\\GitHub\\3dRFT-py\\rft_analysis.ipynb Cell 5\u001b[0m line \u001b[0;36m2\n\u001b[0;32m      <a href='vscode-notebook-cell:/d%3A/Benutzer/GitHub/3dRFT-py/rft_analysis.ipynb#W4sZmlsZQ%3D%3D?line=0'>1</a>\u001b[0m \u001b[39m## STL Processing\u001b[39;00m\n\u001b[1;32m----> <a href='vscode-notebook-cell:/d%3A/Benutzer/GitHub/3dRFT-py/rft_analysis.ipynb#W4sZmlsZQ%3D%3D?line=1'>2</a>\u001b[0m (\n\u001b[0;32m      <a href='vscode-notebook-cell:/d%3A/Benutzer/GitHub/3dRFT-py/rft_analysis.ipynb#W4sZmlsZQ%3D%3D?line=2'>3</a>\u001b[0m     point_list,\n\u001b[0;32m      <a href='vscode-notebook-cell:/d%3A/Benutzer/GitHub/3dRFT-py/rft_analysis.ipynb#W4sZmlsZQ%3D%3D?line=3'>4</a>\u001b[0m     normal_list,\n\u001b[0;32m      <a href='vscode-notebook-cell:/d%3A/Benutzer/GitHub/3dRFT-py/rft_analysis.ipynb#W4sZmlsZQ%3D%3D?line=4'>5</a>\u001b[0m     area_list,\n\u001b[0;32m      <a href='vscode-notebook-cell:/d%3A/Benutzer/GitHub/3dRFT-py/rft_analysis.ipynb#W4sZmlsZQ%3D%3D?line=5'>6</a>\u001b[0m     depth_list,\n\u001b[0;32m      <a href='vscode-notebook-cell:/d%3A/Benutzer/GitHub/3dRFT-py/rft_analysis.ipynb#W4sZmlsZQ%3D%3D?line=6'>7</a>\u001b[0m     object_width_x,\n\u001b[0;32m      <a href='vscode-notebook-cell:/d%3A/Benutzer/GitHub/3dRFT-py/rft_analysis.ipynb#W4sZmlsZQ%3D%3D?line=7'>8</a>\u001b[0m     object_width_y,\n\u001b[0;32m      <a href='vscode-notebook-cell:/d%3A/Benutzer/GitHub/3dRFT-py/rft_analysis.ipynb#W4sZmlsZQ%3D%3D?line=8'>9</a>\u001b[0m     object_height,\n\u001b[0;32m     <a href='vscode-notebook-cell:/d%3A/Benutzer/GitHub/3dRFT-py/rft_analysis.ipynb#W4sZmlsZQ%3D%3D?line=9'>10</a>\u001b[0m     vertices,\n\u001b[0;32m     <a href='vscode-notebook-cell:/d%3A/Benutzer/GitHub/3dRFT-py/rft_analysis.ipynb#W4sZmlsZQ%3D%3D?line=10'>11</a>\u001b[0m     faces,\n\u001b[0;32m     <a href='vscode-notebook-cell:/d%3A/Benutzer/GitHub/3dRFT-py/rft_analysis.ipynb#W4sZmlsZQ%3D%3D?line=11'>12</a>\u001b[0m ) \u001b[39m=\u001b[39m rft_functions\u001b[39m.\u001b[39mimport_mesh(MODEL)\n",
      "\u001b[1;31mValueError\u001b[0m: not enough values to unpack (expected 9, got 7)"
     ]
    }
   ],
   "source": [
    "## STL Processing\n",
    "(\n",
    "    point_list,\n",
    "    normal_list,\n",
    "    area_list,\n",
    "    depth_list,\n",
    "    object_width_x,\n",
    "    object_width_y,\n",
    "    object_height,\n",
    "    vertices,\n",
    "    faces,\n",
    ") = rft_functions.import_mesh(MODEL)"
   ]
  },
  {
   "cell_type": "code",
   "execution_count": null,
   "metadata": {},
   "outputs": [],
   "source": []
  }
 ],
 "metadata": {
  "kernelspec": {
   "display_name": ".venv",
   "language": "python",
   "name": "python3"
  },
  "language_info": {
   "codemirror_mode": {
    "name": "ipython",
    "version": 3
   },
   "file_extension": ".py",
   "mimetype": "text/x-python",
   "name": "python",
   "nbconvert_exporter": "python",
   "pygments_lexer": "ipython3",
   "version": "3.11.5"
  },
  "orig_nbformat": 4
 },
 "nbformat": 4,
 "nbformat_minor": 2
}
