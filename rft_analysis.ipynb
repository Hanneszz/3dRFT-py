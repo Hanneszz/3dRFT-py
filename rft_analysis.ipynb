{
 "cells": [
  {
   "cell_type": "markdown",
   "metadata": {},
   "source": [
    "This is the Python implementation of the 3D-RFT Code based on the framework\n",
    "proposed by Agarwal et al. --> https://doi.org/10.1073/pnas.2214017120"
   ]
  },
  {
   "cell_type": "code",
   "execution_count": 158,
   "metadata": {},
   "outputs": [],
   "source": [
    "# Main file for executing the analysis of the RFT data\n",
    "######## IMPORTS ########\n",
    "import math\n",
    "\n",
    "import ipywidgets as widgets\n",
    "import matplotlib as mpl\n",
    "import matplotlib.pyplot as plt\n",
    "import numpy as np\n",
    "import pandas as pd\n",
    "import plotly as py\n",
    "import plotly.graph_objects as go\n",
    "import plotly.figure_factory as ff\n",
    "import scipy as sp\n",
    "import seaborn as sns\n",
    "from IPython.display import display\n",
    "from mpl_toolkits import mplot3d\n"
   ]
  },
  {
   "cell_type": "code",
   "execution_count": 159,
   "metadata": {},
   "outputs": [],
   "source": [
    "from src import rft_functions\n",
    "from src import helper_functions\n"
   ]
  },
  {
   "cell_type": "code",
   "execution_count": 160,
   "metadata": {},
   "outputs": [],
   "source": [
    "######## INPUTS ########\n",
    "\n",
    "## Model selection\n",
    "MODEL = \"CylinderRough\"\n",
    "\n",
    "## Physical properties\n",
    "BULK_DENSITY = 1310\n",
    "FRICTION_MATERIAL = 0.21\n",
    "FRICTION_SURFACE = 0.4\n",
    "FRICTION_TYPE = \"coefficient\"\n",
    "if FRICTION_TYPE == \"angle\":\n",
    "    FRICTION_MATERIAL = math.tan(np.deg2rad(FRICTION_MATERIAL))\n",
    "    FRICTION_SURFACE = math.tan(np.deg2rad(FRICTION_SURFACE))\n",
    "elif FRICTION_TYPE == \"coefficient\":\n",
    "    pass\n",
    "else:\n",
    "    raise ValueError(\"FRICTION_UNIT must be either 'angle' or 'coefficient'\")\n",
    "GRAVITY = 9.81\n",
    "MATERIAL_CONSTANT = (\n",
    "    GRAVITY\n",
    "    * BULK_DENSITY\n",
    "    * (\n",
    "        894 * FRICTION_MATERIAL**3\n",
    "        - 386 * FRICTION_MATERIAL**2\n",
    "        + 89 * FRICTION_MATERIAL\n",
    "    )\n",
    ") * 10**-9\n",
    "\n",
    "## Movement defintions\n",
    "LINEAR_VELOCITY = 0.1\n",
    "DIR_ANGLE_XZ_DEG = -90\n",
    "DIR_ANGLE_Y_DEG = -90\n",
    "\n",
    "ROTATION = True\n",
    "ANGULAR_VELOCITY = np.array([0, 0, -2 * sp.pi])\n",
    "\n",
    "## Depth parameters in mm\n",
    "DEPTH = 100\n",
    "\n",
    "## Miscellaneous & Plots\n",
    "THRESHOLD = 1.0e-12\n"
   ]
  },
  {
   "cell_type": "code",
   "execution_count": 161,
   "metadata": {},
   "outputs": [
    {
     "data": {
      "text/html": [
       "<style>\n",
       ".cell-output-ipywidget-background {\n",
       "   background-color: transparent !important;\n",
       "}\n",
       ".jp-OutputArea-output {\n",
       "   background-color: transparent;\n",
       "}\n",
       "</style>\n"
      ],
      "text/plain": [
       "<IPython.core.display.HTML object>"
      ]
     },
     "metadata": {},
     "output_type": "display_data"
    }
   ],
   "source": [
    "%%html\n",
    "<style>\n",
    ".cell-output-ipywidget-background {\n",
    "   background-color: transparent !important;\n",
    "}\n",
    ".jp-OutputArea-output {\n",
    "   background-color: transparent;\n",
    "}\n",
    "</style>\n"
   ]
  },
  {
   "cell_type": "code",
   "execution_count": 162,
   "metadata": {},
   "outputs": [],
   "source": [
    "# STL Processing\n",
    "(\n",
    "    point_list,\n",
    "    normal_list,\n",
    "    area_list,\n",
    "    depth_list,\n",
    "    object_width_x,\n",
    "    object_width_y,\n",
    "    object_height,\n",
    "    vertices,\n",
    "    faces,\n",
    "    trg,\n",
    ") = rft_functions.import_mesh(MODEL)\n",
    "point_list[:, 2] -= DEPTH\n",
    "vertices[:, 2] -= DEPTH\n"
   ]
  },
  {
   "cell_type": "code",
   "execution_count": 163,
   "metadata": {},
   "outputs": [
    {
     "data": {
      "application/vnd.jupyter.widget-view+json": {
       "model_id": "514a3393d7ca4914b595df2ec74bb352",
       "version_major": 2,
       "version_minor": 0
      },
      "text/plain": [
       "FigureWidget({\n",
       "    'data': [{'cmax': -50.01523,\n",
       "              'cmin': -99.98477,\n",
       "              'colorscale': [[0.0, '#0d0887'], [0.1111111111111111, '#46039f'],\n",
       "                             [0.2222222222222222, '#7201a8'], [0.3333333333333333,\n",
       "                             '#9c179e'], [0.4444444444444444, '#bd3786'],\n",
       "                             [0.5555555555555556, '#d8576b'], [0.6666666666666666,\n",
       "                             '#ed7953'], [0.7777777777777778, '#fb9f3a'],\n",
       "                             [0.8888888888888888, '#fdca26'], [1.0, '#f0f921']],\n",
       "              'i': array([ 42,   0,   0, ..., 672, 672, 672], dtype=int64),\n",
       "              'intensity': array([-75.     , -75.     , -75.     , ..., -73.25609, -76.74391, -73.25609],\n",
       "                                 dtype=float32),\n",
       "              'j': array([380, 380, 381, ..., 780, 779, 484], dtype=int64),\n",
       "              'k': array([  0, 381,  43, ..., 779, 778, 673], dtype=int64),\n",
       "              'type': 'mesh3d',\n",
       "              'uid': '98222d65-012c-457e-9056-29e3a0543b69',\n",
       "              'x': array([-25.      , -25.      , -25.      , ...,  24.939102,  24.939102,\n",
       "                           24.939102], dtype=float32),\n",
       "              'y': array([-70.      , -66.585365, -63.17073 , ...,  66.585365,  70.      ,\n",
       "                           70.      ], dtype=float32),\n",
       "              'z': array([-75.     , -75.     , -75.     , ..., -73.25609, -76.74391, -73.25609],\n",
       "                         dtype=float32)}],\n",
       "    'layout': {'height': 500,\n",
       "               'scene': {'aspectmode': 'data', 'aspectratio': {'x': 49.939102, 'y': 140.0, 'z': 49.969543}},\n",
       "               'template': '...',\n",
       "               'width': 600}\n",
       "})"
      ]
     },
     "metadata": {},
     "output_type": "display_data"
    }
   ],
   "source": [
    "# Creating a 3D plot using Plotly\n",
    "fig = go.FigureWidget()\n",
    "\n",
    "fig.add_trace(\n",
    "    go.Mesh3d(\n",
    "        x=vertices[:, 0],\n",
    "        y=vertices[:, 1],\n",
    "        z=vertices[:, 2],\n",
    "        i=faces[:, 0],\n",
    "        j=faces[:, 1],\n",
    "        k=faces[:, 2],\n",
    "        colorscale=\"Plasma\",\n",
    "        intensity=vertices[:, 2],\n",
    "        cmin=np.min(vertices[:, 2]),\n",
    "        cmax=np.max(vertices[:, 2]),\n",
    "    )\n",
    ")\n",
    "\n",
    "# Updating the layout of the plot\n",
    "fig.update_layout(\n",
    "    template=\"plotly_dark\",\n",
    "    width=600,\n",
    "    height=500,\n",
    "    scene=dict(\n",
    "        aspectmode=\"data\",\n",
    "        aspectratio=dict(\n",
    "            x=np.ptp(vertices[:, 0]),\n",
    "            y=np.ptp(vertices[:, 1]),\n",
    "            z=np.ptp(vertices[:, 2]),\n",
    "        ),\n",
    "    ),\n",
    ")\n",
    "\n",
    "display(fig)\n"
   ]
  },
  {
   "cell_type": "code",
   "execution_count": 164,
   "metadata": {},
   "outputs": [],
   "source": [
    "## Calculate movement\n",
    "movement = rft_functions.calc_movement(\n",
    "    point_list,\n",
    "    DEPTH,\n",
    "    object_height,\n",
    "    DIR_ANGLE_XZ_DEG,\n",
    "    DIR_ANGLE_Y_DEG,\n",
    "    LINEAR_VELOCITY,\n",
    "    ROTATION,\n",
    "    ANGULAR_VELOCITY,\n",
    ")\n"
   ]
  },
  {
   "cell_type": "code",
   "execution_count": 165,
   "metadata": {},
   "outputs": [],
   "source": [
    "## Check conditions\n",
    "(\n",
    "    point_list,\n",
    "    normal_list,\n",
    "    area_list,\n",
    "    depth_list,\n",
    "    movement,\n",
    ") = rft_functions.check_conditions(\n",
    "    point_list, normal_list, area_list, depth_list, movement\n",
    ")\n"
   ]
  },
  {
   "cell_type": "code",
   "execution_count": 166,
   "metadata": {},
   "outputs": [
    {
     "data": {
      "application/vnd.jupyter.widget-view+json": {
       "model_id": "1310bacb63c84689b19e6fcf7354e3a4",
       "version_major": 2,
       "version_minor": 0
      },
      "text/plain": [
       "FigureWidget({\n",
       "    'data': [{'colorscale': [[0.0, 'rgb(209, 238, 234)'], [0.16666666666666666,\n",
       "                             'rgb(168, 219, 217)'], [0.3333333333333333, 'rgb(133,\n",
       "                             196, 201)'], [0.5, 'rgb(104, 171, 184)'],\n",
       "                             [0.6666666666666666, 'rgb(79, 144, 166)'],\n",
       "                             [0.8333333333333334, 'rgb(59, 115, 143)'], [1.0,\n",
       "                             'rgb(42, 86, 116)']],\n",
       "              'showscale': False,\n",
       "              'sizeref': 3,\n",
       "              'type': 'cone',\n",
       "              'u': array([-0.9750784 , -0.97416377, -0.97324437, ...,  0.96403446,  0.96403446,\n",
       "                           0.95514356]),\n",
       "              'uid': '7d28ced7-469b-48c2-a779-bed942d3ae33',\n",
       "              'v': array([-0.00849426, -0.04412649, -0.06188812, ...,  0.15031517,  0.15031517,\n",
       "                           0.20134536]),\n",
       "              'w': array([-0.22169792, -0.22148997, -0.22128093, ..., -0.21918693, -0.21918693,\n",
       "                          -0.21716545]),\n",
       "              'x': array([  0.6097955,   3.1707752,   4.451265 , ..., -10.914612 , -10.914612 ,\n",
       "                          -14.756081 ], dtype=float32),\n",
       "              'y': array([-70., -70., -70., ...,  70.,  70.,  70.], dtype=float32),\n",
       "              'z': array([-62.883736, -64.16501 , -62.883736, ..., -91.07168 , -93.634224,\n",
       "                          -91.07168 ], dtype=float32)}],\n",
       "    'layout': {'height': 500,\n",
       "               'scene': {'aspectmode': 'data', 'aspectratio': {'x': 49.939102, 'y': 140.0, 'z': 49.969543}},\n",
       "               'template': '...',\n",
       "               'width': 600}\n",
       "})"
      ]
     },
     "metadata": {},
     "output_type": "display_data"
    }
   ],
   "source": [
    "fig = go.FigureWidget()\n",
    "fig.add_trace(\n",
    "    go.Cone(\n",
    "        x=point_list[:, 0],\n",
    "        y=point_list[:, 1],\n",
    "        z=point_list[:, 2],\n",
    "        u=movement[:, 0],\n",
    "        v=movement[:, 1],\n",
    "        w=movement[:, 2],\n",
    "        sizeref=3,\n",
    "        showscale=False,\n",
    "        colorscale=\"Teal\",\n",
    "    )\n",
    ")\n",
    "\n",
    "# Updating the layout of the plot\n",
    "fig.update_layout(\n",
    "    template=\"plotly_dark\",\n",
    "    width=600,\n",
    "    height=500,\n",
    "    scene=dict(\n",
    "        aspectmode=\"data\",\n",
    "        aspectratio=dict(\n",
    "            x=np.ptp(vertices[:, 0]),\n",
    "            y=np.ptp(vertices[:, 1]),\n",
    "            z=np.ptp(vertices[:, 2]),\n",
    "        ),\n",
    "    ),\n",
    ")\n",
    "\n",
    "display(fig)\n"
   ]
  },
  {
   "cell_type": "code",
   "execution_count": 167,
   "metadata": {},
   "outputs": [],
   "source": [
    "## Find local coordinate frame for each subsurface\n",
    "z_local, r_local, theta_local = rft_functions.find_local_frame(normal_list, movement)\n"
   ]
  },
  {
   "cell_type": "code",
   "execution_count": 168,
   "metadata": {},
   "outputs": [],
   "source": [
    "## Find the characteristic angles of the RFT method\n",
    "beta, gamma, psi = rft_functions.find_angles(\n",
    "    normal_list, movement, z_local, r_local, theta_local\n",
    ")\n"
   ]
  },
  {
   "cell_type": "code",
   "execution_count": 169,
   "metadata": {},
   "outputs": [],
   "source": [
    "## Find empirical values for the RFT method\n",
    "f_1, f_2, f_3 = rft_functions.find_fit(beta, gamma, psi)\n"
   ]
  },
  {
   "cell_type": "code",
   "execution_count": 170,
   "metadata": {},
   "outputs": [],
   "source": [
    "## Find dimensionless response vectors alpha\n",
    "alpha_generic, alpha_generic_n, alpha_generic_t, alpha = rft_functions.find_alpha(\n",
    "    normal_list,\n",
    "    movement,\n",
    "    beta,\n",
    "    gamma,\n",
    "    psi,\n",
    "    z_local,\n",
    "    r_local,\n",
    "    theta_local,\n",
    "    f_1,\n",
    "    f_2,\n",
    "    f_3,\n",
    "    MATERIAL_CONSTANT,\n",
    "    FRICTION_SURFACE,\n",
    ")\n"
   ]
  },
  {
   "cell_type": "code",
   "execution_count": 171,
   "metadata": {},
   "outputs": [],
   "source": [
    "forces, pressure, force_x, force_y, force_z, resultant = rft_functions.find_forces(\n",
    "    alpha, depth_list, area_list\n",
    ")\n"
   ]
  },
  {
   "cell_type": "code",
   "execution_count": 172,
   "metadata": {},
   "outputs": [],
   "source": [
    "torques, torque_x, torque_y, torque_z, resultant_torque = rft_functions.find_torques(\n",
    "    point_list, forces\n",
    ")\n"
   ]
  }
 ],
 "metadata": {
  "kernelspec": {
   "display_name": ".venv",
   "language": "python",
   "name": "python3"
  },
  "language_info": {
   "codemirror_mode": {
    "name": "ipython",
    "version": 3
   },
   "file_extension": ".py",
   "mimetype": "text/x-python",
   "name": "python",
   "nbconvert_exporter": "python",
   "pygments_lexer": "ipython3",
   "version": "3.11.5"
  },
  "orig_nbformat": 4
 },
 "nbformat": 4,
 "nbformat_minor": 2
}
